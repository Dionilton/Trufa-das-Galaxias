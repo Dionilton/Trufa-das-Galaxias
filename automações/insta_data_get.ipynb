{
 "cells": [
  {
   "cell_type": "markdown",
   "id": "b25b9645",
   "metadata": {},
   "source": [
    "### Insta Data Get - IDG\n",
    "\n",
    "O IDG é uma automação para a coleta de dados do Instagram do TdG. Um dos objetivos dessa aplicação é\n",
    "obter dados como o número de seguidores e publicações diariamente, obtendo essas informações e atualizando a base de dados\n",
    "para que se possa fazer uma analise de dados, plotando gráficos e realizando análises estatísticas afim de se obter\n",
    "informações e conclusões valiosas que auxilie nas tomadas de decisões da instituição.\n",
    "\n"
   ]
  },
  {
   "cell_type": "code",
   "execution_count": null,
   "id": "0e6ed82e",
   "metadata": {},
   "outputs": [],
   "source": [
    "#Passo1: Ler base de dados mais recente"
   ]
  },
  {
   "cell_type": "code",
   "execution_count": 8,
   "id": "d8f964de",
   "metadata": {},
   "outputs": [],
   "source": [
    "#Passo2: Obter dado mais atual(numero de seguidores e publicações)\n",
    "\n",
    "from selenium import webdriver\n",
    "from selenium.webdriver.common.keys import Keys \n",
    "from selenium.webdriver.common.by import By\n",
    "\n",
    "navegador = webdriver.Chrome()\n",
    "\n",
    "navegador.get(\"https://www.instagram.com/trufadasgalaxias.unb/\")\n",
    "\n",
    "#corrigir bugs de autenticação\n",
    "n_seguidores = navegador.find_element(By.XPATH, '//*[@id=\"react-root\"]/section/main/div/header/section/ul/li[2]/button/div/span').get_attribute(\"title\")\n",
    "print(n_seguidores)\n",
    "\n",
    "n_publicacoes = navegador.find_element(By.XPATH, '//*[@id=\"react-root\"]/section/main/div/header/section/ul/li[1]/button/div/span').get_attribute(\"title\")\n",
    "print(n_publicacoes)\n",
    "#corrigir bugs de autenticação"
   ]
  },
  {
   "cell_type": "code",
   "execution_count": 3,
   "id": "9ff51f62",
   "metadata": {},
   "outputs": [],
   "source": [
    "#Passo3: Adicionar o dado mais recente a tabela\n",
    "\n"
   ]
  },
  {
   "cell_type": "code",
   "execution_count": null,
   "id": "1071a286",
   "metadata": {},
   "outputs": [],
   "source": [
    "#Passo4: Atualizar base de dado com a tabela no servidor de dados\n",
    "\n"
   ]
  }
 ],
 "metadata": {
  "kernelspec": {
   "display_name": "Python 3 (ipykernel)",
   "language": "python",
   "name": "python3"
  },
  "language_info": {
   "codemirror_mode": {
    "name": "ipython",
    "version": 3
   },
   "file_extension": ".py",
   "mimetype": "text/x-python",
   "name": "python",
   "nbconvert_exporter": "python",
   "pygments_lexer": "ipython3",
   "version": "3.9.7"
  }
 },
 "nbformat": 4,
 "nbformat_minor": 5
}
