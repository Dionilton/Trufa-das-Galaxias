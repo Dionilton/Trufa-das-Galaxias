{
 "cells": [
  {
   "cell_type": "markdown",
   "id": "b25b9645",
   "metadata": {},
   "source": [
    "### Insta Data Get - IDG\n",
    "\n",
    "O IDG é uma automação para a coleta de dados do Instagram do TdG. Um dos objetivos dessa aplicação é\n",
    "obter dados como o número de seguidores e publicações diariamente, obtendo essas informações e atualizando a base de dados\n",
    "para que se possa fazer uma analise de dados, plotando gráficos e realizando análises estatísticas afim de se obter\n",
    "informações e conclusões valiosas que auxilie nas tomadas de decisões da instituição.\n",
    "\n"
   ]
  },
  {
   "cell_type": "code",
   "execution_count": null,
   "id": "0e6ed82e",
   "metadata": {},
   "outputs": [],
   "source": [
    "#Passo1: Ler base de dados mais recente"
   ]
  },
  {
   "cell_type": "code",
   "execution_count": 67,
   "id": "d8f964de",
   "metadata": {},
   "outputs": [
    {
     "name": "stdout",
     "output_type": "stream",
     "text": [
      "0\n",
      "0\n"
     ]
    }
   ],
   "source": [
    "#Passo2: Obter dado mais atual(numero de seguidores e publicações)\n",
    "\n",
    "from selenium import webdriver\n",
    "from selenium.webdriver.common.keys import Keys \n",
    "from selenium.webdriver.common.by import By\n",
    "from selenium.webdriver.support import expected_conditions as EC\n",
    "from selenium.webdriver.support.wait import WebDriverWait\n",
    "import time\n",
    "\n",
    "navegador = webdriver.Chrome()\n",
    "\n",
    "navegador.get(\"https://www.instagram.com/\")\n",
    "\n",
    "username = WebDriverWait(navegador, 10).until(EC.element_to_be_clickable((By.CSS_SELECTOR, \"input[name='username']\")))\n",
    "password = WebDriverWait(navegador, 10).until(EC.element_to_be_clickable((By.CSS_SELECTOR, \"input[name='password']\")))\n",
    "\n",
    "username.send_keys(\"xxx\")\n",
    "password.send_keys(\"xxx\")\n",
    "navegador.find_element(By.XPATH, '//*[@id=\"loginForm\"]/div/div[3]/button/div').click()\n",
    "\n",
    "time.sleep(5)\n",
    "\n",
    "navegador.find_element(By.XPATH, '//*[@id=\"react-root\"]/section/nav/div[2]/div/div/div[2]/div[1]/div/span').click()\n",
    "navegador.find_element(By.XPATH, '//*[@id=\"react-root\"]/section/nav/div[2]/div/div/div[2]/input').send_keys(\"trufadasgalaxias.unb\")\n",
    "time.sleep(2)\n",
    "navegador.find_element(By.XPATH, '//*[@id=\"react-root\"]/section/nav/div[2]/div/div/div[2]/div[3]/div/div[2]/div/div/a/div').click()\n",
    "time.sleep(2)\n",
    "\n",
    "\n",
    "n_seguidores = navegador.find_element(By.XPATH, '//*[@id=\"react-root\"]/section/main/div/header/section/ul/li[2]/div/span').get_attribute(\"title\")\n",
    "n_publicacoes = navegador.find_element(By.XPATH, '//*[@id=\"react-root\"]/section/main/div/header/section/ul/li[1]/div/span').text\n",
    "\n",
    "n_seguidores = int(n_seguidores)\n",
    "n_publicacoes = int(n_publicacoes)\n",
    "\n",
    "print(n_seguidores)\n",
    "print(n_publicacoes)\n",
    "\n"
   ]
  },
  {
   "cell_type": "code",
   "execution_count": null,
   "id": "715a0f2a",
   "metadata": {},
   "outputs": [],
   "source": []
  },
  {
   "cell_type": "code",
   "execution_count": 66,
   "id": "9ff51f62",
   "metadata": {},
   "outputs": [],
   "source": [
    "#Passo3: Adicionar o dado mais recente a tabela\n",
    "\n"
   ]
  },
  {
   "cell_type": "code",
   "execution_count": null,
   "id": "1071a286",
   "metadata": {},
   "outputs": [],
   "source": [
    "#Passo4: Atualizar base de dado com a tabela no servidor de dados\n",
    "\n"
   ]
  }
 ],
 "metadata": {
  "kernelspec": {
   "display_name": "Python 3 (ipykernel)",
   "language": "python",
   "name": "python3"
  },
  "language_info": {
   "codemirror_mode": {
    "name": "ipython",
    "version": 3
   },
   "file_extension": ".py",
   "mimetype": "text/x-python",
   "name": "python",
   "nbconvert_exporter": "python",
   "pygments_lexer": "ipython3",
   "version": "3.9.7"
  }
 },
 "nbformat": 4,
 "nbformat_minor": 5
}
