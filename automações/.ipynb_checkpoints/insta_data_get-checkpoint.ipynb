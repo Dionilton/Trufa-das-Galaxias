{
 "cells": [
  {
   "cell_type": "code",
   "execution_count": 2,
   "id": "7c3ff50b",
   "metadata": {},
   "outputs": [
    {
     "name": "stdout",
     "output_type": "stream",
     "text": [
      "0\n"
     ]
    }
   ],
   "source": [
    "#Automação para coleta de dados do Instagram do TdG.\n",
    "#Tais como: número de seguidores e publicações\n",
    "#O código sera rodado semanalmnte e atualizara a base de dados para que possa se plotado gráficos, e feita analises mais aprofundadas \n",
    "\n",
    "\n",
    "#Passo1: Ler base de dados mais recente\n",
    "#Passo2: Obter dado mais atual(numero de seguidores e publicações)\n",
    "#Passo3: Adicionar o dado mais recente a tabela\n",
    "#Passo4: Atualizar base de dado com a tabela\n",
    "\n",
    "from selenium import webdriver\n",
    "from selenium.webdriver.common.keys import Keys \n",
    "from selenium.webdriver.common.by import By\n",
    "\n",
    "navegador = webdriver.Chrome()\n",
    "\n",
    "navegador.get(\"https://www.instagram.com/trufadasgalaxias.unb/\")\n",
    "\n",
    "n_seguidores = navegador.find_element(By.XPATH, '//*[@id=\"react-root\"]/section/main/div/header/section/ul/li[2]/button/div/span').get_attribute(\"title\")\n",
    "print(n_seguidores)\n"
   ]
  },
  {
   "cell_type": "code",
   "execution_count": 3,
   "id": "3ceb732b",
   "metadata": {},
   "outputs": [
    {
     "data": {
      "text/plain": [
       "str"
      ]
     },
     "execution_count": 3,
     "metadata": {},
     "output_type": "execute_result"
    }
   ],
   "source": [
    "type(n_seguidores)"
   ]
  }
 ],
 "metadata": {
  "kernelspec": {
   "display_name": "Python 3 (ipykernel)",
   "language": "python",
   "name": "python3"
  },
  "language_info": {
   "codemirror_mode": {
    "name": "ipython",
    "version": 3
   },
   "file_extension": ".py",
   "mimetype": "text/x-python",
   "name": "python",
   "nbconvert_exporter": "python",
   "pygments_lexer": "ipython3",
   "version": "3.9.7"
  }
 },
 "nbformat": 4,
 "nbformat_minor": 5
}
