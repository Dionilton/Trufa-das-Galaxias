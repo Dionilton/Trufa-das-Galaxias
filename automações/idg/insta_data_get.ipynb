{
 "cells": [
  {
   "cell_type": "markdown",
   "id": "b25b9645",
   "metadata": {},
   "source": [
    "### Insta Data Get - IDG\n",
    "\n",
    "O IDG é uma automação para a coleta de dados do Instagram do TdG. Um dos objetivos dessa aplicação é\n",
    "obter dados como o número de seguidores e publicações diariamente, obtendo essas informações e atualizando a base de dados\n",
    "para que se possa fazer uma analise de dados, plotando gráficos e realizando análises estatísticas afim de se obter\n",
    "informações e conclusões valiosas que auxilie nas tomadas de decisões da instituição.\n",
    "\n"
   ]
  },
  {
   "cell_type": "code",
   "execution_count": 12,
   "id": "0e6ed82e",
   "metadata": {
    "scrolled": true
   },
   "outputs": [
    {
     "ename": "SyntaxError",
     "evalue": "EOF while scanning triple-quoted string literal (Temp/ipykernel_16240/3797172250.py, line 6)",
     "output_type": "error",
     "traceback": [
      "\u001b[1;36m  File \u001b[1;32m\"C:\\Users\\dioni\\AppData\\Local\\Temp/ipykernel_16240/3797172250.py\"\u001b[1;36m, line \u001b[1;32m6\u001b[0m\n\u001b[1;33m    display(tabela)\u001b[0m\n\u001b[1;37m                   \n^\u001b[0m\n\u001b[1;31mSyntaxError\u001b[0m\u001b[1;31m:\u001b[0m EOF while scanning triple-quoted string literal\n"
     ]
    }
   ],
   "source": [
    "#Passo1: Ler base de dados mais recente\n",
    "import pandas as pd\n",
    "\n",
    "tabela = pd.read_csv(\"DB_IDG_Teste.csv\")\n",
    "display(tabela)\n"
   ]
  },
  {
   "cell_type": "code",
   "execution_count": null,
   "id": "d8f964de",
   "metadata": {},
   "outputs": [],
   "source": [
    "#Passo2: Obter dado mais atual(numero de seguidores e publicações)\n",
    "\n",
    "from selenium import webdriver\n",
    "from selenium.webdriver.common.keys import Keys\n",
    "from selenium.webdriver.common.by import By\n",
    "from selenium.webdriver.support import expected_conditions as EC\n",
    "from selenium.webdriver.support.wait import WebDriverWait\n",
    "from dotenv import load_dotenv\n",
    "import time\n",
    "import os\n",
    "from datetime import date\n",
    "\n",
    "load_dotenv()\n",
    "\n",
    "email = os.getenv(\"email\")\n",
    "senha = os.getenv(\"senha\")\n",
    "\n",
    "navegador = webdriver.Chrome()\n",
    "\n",
    "navegador.get(\"https://www.instagram.com/\")\n",
    "\n",
    "username = WebDriverWait(navegador, 10).until(EC.element_to_be_clickable((By.CSS_SELECTOR, \"input[name='username']\")))\n",
    "password = WebDriverWait(navegador, 10).until(EC.element_to_be_clickable((By.CSS_SELECTOR, \"input[name='password']\")))\n",
    "\n",
    "\n",
    "username.send_keys(email)\n",
    "password.send_keys(senha)\n",
    "navegador.find_element(By.XPATH, '//*[@id=\"loginForm\"]/div/div[3]/button/div').click()\n",
    "\n",
    "time.sleep(8)\n",
    "\n",
    "navegador.find_element(By.XPATH, '//*[@id=\"react-root\"]/section/nav/div[2]/div/div/div[2]/div[1]/div/span').click()\n",
    "navegador.find_element(By.XPATH, '//*[@id=\"react-root\"]/section/nav/div[2]/div/div/div[2]/input').send_keys(\"hanyarts\")\n",
    "time.sleep(2)\n",
    "navegador.find_element(By.XPATH, '//*[@id=\"react-root\"]/section/nav/div[2]/div/div/div[2]/div[3]/div/div[2]/div/div/a/div').click()\n",
    "time.sleep(2)\n",
    "\n",
    "\n",
    "#corrigir bug de xpath\n",
    "\n",
    "n_seguidores = navegador.find_element(By.XPATH, '//*[@id=\"mount_0_0_ie\"]/div/div[1]/div/div[1]/div/div/div[1]/div[1]/section/main/div/header/section/div[2]/span').text\n",
    "n_seguindo = navegador.find_element(By.XPATH, '//*[@id=\"mount_0_0_ie\"]/div/div[1]/div/div[1]/div/div/div[1]/div[1]/section/main/div/header/section/div[2]/span').text\n",
    "n_publicacoes = navegador.find_element(By.XPATH, '//*[@id=\"mount_0_0_ie\"]/div/div[1]/div/div[1]/div/div/div[1]/div[1]/section/main/div/header/section/div[2]/span').text\n",
    "\n",
    "#corrigir bug de xpath\n",
    "\n",
    "n_seguidores = int(n_seguidores)\n",
    "n_seguindo = int(n_seguindo)\n",
    "n_publicacoes = int(n_publicacoes)\n",
    "\n",
    "print(n_seguidores)\n",
    "print(n_seguindo)\n",
    "print(n_publicacoes)\n",
    "\n",
    "dia_atual = date.today()\n",
    "dia = f'{dia_atual.day}/{dia_atual.month}/{dia_atual.year}'\n",
    "\n"
   ]
  },
  {
   "cell_type": "code",
   "execution_count": null,
   "id": "9ff51f62",
   "metadata": {},
   "outputs": [],
   "source": [
    "#Passo3: Adicionar o dado mais recente a tabela\n",
    "\n",
    "#corrigir bug: df.append adiciona uma coluna extra\n",
    "\n",
    "new_line = {'Dia': dia, 'Seguidores': n_seguidores, 'Seguindo': n_seguindo, 'Publicações': n_publicacoes}\n",
    "tabela = tabela.append(new_line, ignore_index=True)\n",
    "\n",
    "#corrigir bug: df.append adiciona uma coluna extra"
   ]
  },
  {
   "cell_type": "code",
   "execution_count": null,
   "id": "1071a286",
   "metadata": {},
   "outputs": [],
   "source": [
    "#Passo 4: Atualizar base de dado com a tabela no servidor de dados\n",
    "\n",
    "tabela.to_csv(\"DB_IDG_Teste.csv\")"
   ]
  },
  {
   "cell_type": "code",
   "execution_count": null,
   "id": "055568d2",
   "metadata": {},
   "outputs": [],
   "source": [
    "#celula auxiliar para instalações\n"
   ]
  }
 ],
 "metadata": {
  "kernelspec": {
   "display_name": "Python 3 (ipykernel)",
   "language": "python",
   "name": "python3"
  },
  "language_info": {
   "codemirror_mode": {
    "name": "ipython",
    "version": 3
   },
   "file_extension": ".py",
   "mimetype": "text/x-python",
   "name": "python",
   "nbconvert_exporter": "python",
   "pygments_lexer": "ipython3",
   "version": "3.9.7"
  }
 },
 "nbformat": 4,
 "nbformat_minor": 5
}
