{
 "cells": [
  {
   "cell_type": "markdown",
   "id": "b25b9645",
   "metadata": {},
   "source": [
    "### Insta Data Get - IDG\n",
    "\n",
    "O IDG é uma automação para a coleta de dados do Instagram do TdG. Um dos objetivos dessa aplicação é\n",
    "obter dados como o número de seguidores e publicações diariamente, obtendo essas informações e atualizando a base de dados\n",
    "para que se possa fazer uma analise de dados, plotando gráficos e realizando análises estatísticas afim de se obter\n",
    "informações e conclusões valiosas que auxilie nas tomadas de decisões da instituição.\n",
    "\n"
   ]
  },
  {
   "cell_type": "code",
   "execution_count": 2,
   "id": "0e6ed82e",
   "metadata": {
    "scrolled": true
   },
   "outputs": [
    {
     "data": {
      "text/html": [
       "<div>\n",
       "<style scoped>\n",
       "    .dataframe tbody tr th:only-of-type {\n",
       "        vertical-align: middle;\n",
       "    }\n",
       "\n",
       "    .dataframe tbody tr th {\n",
       "        vertical-align: top;\n",
       "    }\n",
       "\n",
       "    .dataframe thead th {\n",
       "        text-align: right;\n",
       "    }\n",
       "</style>\n",
       "<table border=\"1\" class=\"dataframe\">\n",
       "  <thead>\n",
       "    <tr style=\"text-align: right;\">\n",
       "      <th></th>\n",
       "      <th>Unnamed: 0</th>\n",
       "      <th>Dia</th>\n",
       "      <th>Seguidores</th>\n",
       "      <th>Seguindo</th>\n",
       "      <th>Publicações</th>\n",
       "    </tr>\n",
       "  </thead>\n",
       "  <tbody>\n",
       "    <tr>\n",
       "      <th>0</th>\n",
       "      <td>0</td>\n",
       "      <td>18/5/2022</td>\n",
       "      <td>495</td>\n",
       "      <td>996</td>\n",
       "      <td>142</td>\n",
       "    </tr>\n",
       "  </tbody>\n",
       "</table>\n",
       "</div>"
      ],
      "text/plain": [
       "   Unnamed: 0        Dia  Seguidores  Seguindo  Publicações\n",
       "0           0  18/5/2022         495       996          142"
      ]
     },
     "metadata": {},
     "output_type": "display_data"
    }
   ],
   "source": [
    "#Passo1: Ler base de dados mais recente\n",
    "import pandas as pd\n",
    "\n",
    "tabela = pd.read_csv(\"DB_IDG_Teste.csv\")\n",
    "display(tabela)\n"
   ]
  },
  {
   "cell_type": "code",
   "execution_count": 12,
   "id": "d8f964de",
   "metadata": {},
   "outputs": [
    {
     "ename": "NoSuchElementException",
     "evalue": "Message: no such element: Unable to locate element: {\"method\":\"xpath\",\"selector\":\"//*[@id=\"react-root\"]/section/main/div/header/section/ul/li[2]/a/div/span\"}\n  (Session info: chrome=102.0.5005.115)\nStacktrace:\nBacktrace:\n\tOrdinal0 [0x00B3B8F3+2406643]\n\tOrdinal0 [0x00ACAF31+1945393]\n\tOrdinal0 [0x009BC748+837448]\n\tOrdinal0 [0x009E92E0+1020640]\n\tOrdinal0 [0x009E957B+1021307]\n\tOrdinal0 [0x00A16372+1205106]\n\tOrdinal0 [0x00A042C4+1131204]\n\tOrdinal0 [0x00A14682+1197698]\n\tOrdinal0 [0x00A04096+1130646]\n\tOrdinal0 [0x009DE636+976438]\n\tOrdinal0 [0x009DF546+980294]\n\tGetHandleVerifier [0x00DA9612+2498066]\n\tGetHandleVerifier [0x00D9C920+2445600]\n\tGetHandleVerifier [0x00BD4F2A+579370]\n\tGetHandleVerifier [0x00BD3D36+574774]\n\tOrdinal0 [0x00AD1C0B+1973259]\n\tOrdinal0 [0x00AD6688+1992328]\n\tOrdinal0 [0x00AD6775+1992565]\n\tOrdinal0 [0x00ADF8D1+2029777]\n\tBaseThreadInitThunk [0x75AB7BA9+25]\n\tRtlInitializeExceptionChain [0x7756B7DB+107]\n\tRtlClearBits [0x7756B75F+191]\n",
     "output_type": "error",
     "traceback": [
      "\u001b[1;31m---------------------------------------------------------------------------\u001b[0m",
      "\u001b[1;31mNoSuchElementException\u001b[0m                    Traceback (most recent call last)",
      "\u001b[1;32m~\\AppData\\Local\\Temp/ipykernel_14328/425256980.py\u001b[0m in \u001b[0;36m<module>\u001b[1;34m\u001b[0m\n\u001b[0;32m     37\u001b[0m \u001b[1;33m\u001b[0m\u001b[0m\n\u001b[0;32m     38\u001b[0m \u001b[1;33m\u001b[0m\u001b[0m\n\u001b[1;32m---> 39\u001b[1;33m \u001b[0mn_seguidores\u001b[0m \u001b[1;33m=\u001b[0m \u001b[0mnavegador\u001b[0m\u001b[1;33m.\u001b[0m\u001b[0mfind_element\u001b[0m\u001b[1;33m(\u001b[0m\u001b[0mBy\u001b[0m\u001b[1;33m.\u001b[0m\u001b[0mXPATH\u001b[0m\u001b[1;33m,\u001b[0m \u001b[1;34m'//*[@id=\"react-root\"]/section/main/div/header/section/ul/li[2]/a/div/span'\u001b[0m\u001b[1;33m)\u001b[0m\u001b[1;33m.\u001b[0m\u001b[0mget_attribute\u001b[0m\u001b[1;33m(\u001b[0m\u001b[1;34m\"title\"\u001b[0m\u001b[1;33m)\u001b[0m\u001b[1;33m\u001b[0m\u001b[1;33m\u001b[0m\u001b[0m\n\u001b[0m\u001b[0;32m     40\u001b[0m \u001b[0mn_seguindo\u001b[0m \u001b[1;33m=\u001b[0m \u001b[0mnavegador\u001b[0m\u001b[1;33m.\u001b[0m\u001b[0mfind_element\u001b[0m\u001b[1;33m(\u001b[0m\u001b[0mBy\u001b[0m\u001b[1;33m.\u001b[0m\u001b[0mXPATH\u001b[0m\u001b[1;33m,\u001b[0m \u001b[1;34m'//*[@id=\"react-root\"]/section/main/div/header/section/ul/li[3]/a/div/span'\u001b[0m\u001b[1;33m)\u001b[0m\u001b[1;33m.\u001b[0m\u001b[0mtext\u001b[0m\u001b[1;33m\u001b[0m\u001b[1;33m\u001b[0m\u001b[0m\n\u001b[0;32m     41\u001b[0m \u001b[0mn_publicacoes\u001b[0m \u001b[1;33m=\u001b[0m \u001b[0mnavegador\u001b[0m\u001b[1;33m.\u001b[0m\u001b[0mfind_element\u001b[0m\u001b[1;33m(\u001b[0m\u001b[0mBy\u001b[0m\u001b[1;33m.\u001b[0m\u001b[0mXPATH\u001b[0m\u001b[1;33m,\u001b[0m \u001b[1;34m'//*[@id=\"react-root\"]/section/main/div/header/section/ul/li[1]/div/span'\u001b[0m\u001b[1;33m)\u001b[0m\u001b[1;33m.\u001b[0m\u001b[0mtext\u001b[0m\u001b[1;33m\u001b[0m\u001b[1;33m\u001b[0m\u001b[0m\n",
      "\u001b[1;32m~\\anaconda3\\lib\\site-packages\\selenium\\webdriver\\remote\\webdriver.py\u001b[0m in \u001b[0;36mfind_element\u001b[1;34m(self, by, value)\u001b[0m\n\u001b[0;32m   1249\u001b[0m             \u001b[0mvalue\u001b[0m \u001b[1;33m=\u001b[0m \u001b[1;34m'[name=\"%s\"]'\u001b[0m \u001b[1;33m%\u001b[0m \u001b[0mvalue\u001b[0m\u001b[1;33m\u001b[0m\u001b[1;33m\u001b[0m\u001b[0m\n\u001b[0;32m   1250\u001b[0m \u001b[1;33m\u001b[0m\u001b[0m\n\u001b[1;32m-> 1251\u001b[1;33m         return self.execute(Command.FIND_ELEMENT, {\n\u001b[0m\u001b[0;32m   1252\u001b[0m             \u001b[1;34m'using'\u001b[0m\u001b[1;33m:\u001b[0m \u001b[0mby\u001b[0m\u001b[1;33m,\u001b[0m\u001b[1;33m\u001b[0m\u001b[1;33m\u001b[0m\u001b[0m\n\u001b[0;32m   1253\u001b[0m             'value': value})['value']\n",
      "\u001b[1;32m~\\anaconda3\\lib\\site-packages\\selenium\\webdriver\\remote\\webdriver.py\u001b[0m in \u001b[0;36mexecute\u001b[1;34m(self, driver_command, params)\u001b[0m\n\u001b[0;32m    428\u001b[0m         \u001b[0mresponse\u001b[0m \u001b[1;33m=\u001b[0m \u001b[0mself\u001b[0m\u001b[1;33m.\u001b[0m\u001b[0mcommand_executor\u001b[0m\u001b[1;33m.\u001b[0m\u001b[0mexecute\u001b[0m\u001b[1;33m(\u001b[0m\u001b[0mdriver_command\u001b[0m\u001b[1;33m,\u001b[0m \u001b[0mparams\u001b[0m\u001b[1;33m)\u001b[0m\u001b[1;33m\u001b[0m\u001b[1;33m\u001b[0m\u001b[0m\n\u001b[0;32m    429\u001b[0m         \u001b[1;32mif\u001b[0m \u001b[0mresponse\u001b[0m\u001b[1;33m:\u001b[0m\u001b[1;33m\u001b[0m\u001b[1;33m\u001b[0m\u001b[0m\n\u001b[1;32m--> 430\u001b[1;33m             \u001b[0mself\u001b[0m\u001b[1;33m.\u001b[0m\u001b[0merror_handler\u001b[0m\u001b[1;33m.\u001b[0m\u001b[0mcheck_response\u001b[0m\u001b[1;33m(\u001b[0m\u001b[0mresponse\u001b[0m\u001b[1;33m)\u001b[0m\u001b[1;33m\u001b[0m\u001b[1;33m\u001b[0m\u001b[0m\n\u001b[0m\u001b[0;32m    431\u001b[0m             response['value'] = self._unwrap_value(\n\u001b[0;32m    432\u001b[0m                 response.get('value', None))\n",
      "\u001b[1;32m~\\anaconda3\\lib\\site-packages\\selenium\\webdriver\\remote\\errorhandler.py\u001b[0m in \u001b[0;36mcheck_response\u001b[1;34m(self, response)\u001b[0m\n\u001b[0;32m    245\u001b[0m                 \u001b[0malert_text\u001b[0m \u001b[1;33m=\u001b[0m \u001b[0mvalue\u001b[0m\u001b[1;33m[\u001b[0m\u001b[1;34m'alert'\u001b[0m\u001b[1;33m]\u001b[0m\u001b[1;33m.\u001b[0m\u001b[0mget\u001b[0m\u001b[1;33m(\u001b[0m\u001b[1;34m'text'\u001b[0m\u001b[1;33m)\u001b[0m\u001b[1;33m\u001b[0m\u001b[1;33m\u001b[0m\u001b[0m\n\u001b[0;32m    246\u001b[0m             \u001b[1;32mraise\u001b[0m \u001b[0mexception_class\u001b[0m\u001b[1;33m(\u001b[0m\u001b[0mmessage\u001b[0m\u001b[1;33m,\u001b[0m \u001b[0mscreen\u001b[0m\u001b[1;33m,\u001b[0m \u001b[0mstacktrace\u001b[0m\u001b[1;33m,\u001b[0m \u001b[0malert_text\u001b[0m\u001b[1;33m)\u001b[0m  \u001b[1;31m# type: ignore[call-arg]  # mypy is not smart enough here\u001b[0m\u001b[1;33m\u001b[0m\u001b[1;33m\u001b[0m\u001b[0m\n\u001b[1;32m--> 247\u001b[1;33m         \u001b[1;32mraise\u001b[0m \u001b[0mexception_class\u001b[0m\u001b[1;33m(\u001b[0m\u001b[0mmessage\u001b[0m\u001b[1;33m,\u001b[0m \u001b[0mscreen\u001b[0m\u001b[1;33m,\u001b[0m \u001b[0mstacktrace\u001b[0m\u001b[1;33m)\u001b[0m\u001b[1;33m\u001b[0m\u001b[1;33m\u001b[0m\u001b[0m\n\u001b[0m\u001b[0;32m    248\u001b[0m \u001b[1;33m\u001b[0m\u001b[0m\n\u001b[0;32m    249\u001b[0m     \u001b[1;32mdef\u001b[0m \u001b[0m_value_or_default\u001b[0m\u001b[1;33m(\u001b[0m\u001b[0mself\u001b[0m\u001b[1;33m,\u001b[0m \u001b[0mobj\u001b[0m\u001b[1;33m:\u001b[0m \u001b[0mMapping\u001b[0m\u001b[1;33m[\u001b[0m\u001b[0m_KT\u001b[0m\u001b[1;33m,\u001b[0m \u001b[0m_VT\u001b[0m\u001b[1;33m]\u001b[0m\u001b[1;33m,\u001b[0m \u001b[0mkey\u001b[0m\u001b[1;33m:\u001b[0m \u001b[0m_KT\u001b[0m\u001b[1;33m,\u001b[0m \u001b[0mdefault\u001b[0m\u001b[1;33m:\u001b[0m \u001b[0m_VT\u001b[0m\u001b[1;33m)\u001b[0m \u001b[1;33m->\u001b[0m \u001b[0m_VT\u001b[0m\u001b[1;33m:\u001b[0m\u001b[1;33m\u001b[0m\u001b[1;33m\u001b[0m\u001b[0m\n",
      "\u001b[1;31mNoSuchElementException\u001b[0m: Message: no such element: Unable to locate element: {\"method\":\"xpath\",\"selector\":\"//*[@id=\"react-root\"]/section/main/div/header/section/ul/li[2]/a/div/span\"}\n  (Session info: chrome=102.0.5005.115)\nStacktrace:\nBacktrace:\n\tOrdinal0 [0x00B3B8F3+2406643]\n\tOrdinal0 [0x00ACAF31+1945393]\n\tOrdinal0 [0x009BC748+837448]\n\tOrdinal0 [0x009E92E0+1020640]\n\tOrdinal0 [0x009E957B+1021307]\n\tOrdinal0 [0x00A16372+1205106]\n\tOrdinal0 [0x00A042C4+1131204]\n\tOrdinal0 [0x00A14682+1197698]\n\tOrdinal0 [0x00A04096+1130646]\n\tOrdinal0 [0x009DE636+976438]\n\tOrdinal0 [0x009DF546+980294]\n\tGetHandleVerifier [0x00DA9612+2498066]\n\tGetHandleVerifier [0x00D9C920+2445600]\n\tGetHandleVerifier [0x00BD4F2A+579370]\n\tGetHandleVerifier [0x00BD3D36+574774]\n\tOrdinal0 [0x00AD1C0B+1973259]\n\tOrdinal0 [0x00AD6688+1992328]\n\tOrdinal0 [0x00AD6775+1992565]\n\tOrdinal0 [0x00ADF8D1+2029777]\n\tBaseThreadInitThunk [0x75AB7BA9+25]\n\tRtlInitializeExceptionChain [0x7756B7DB+107]\n\tRtlClearBits [0x7756B75F+191]\n"
     ]
    }
   ],
   "source": [
    "#Passo2: Obter dado mais atual(numero de seguidores e publicações)\n",
    "\n",
    "from selenium import webdriver\n",
    "from selenium.webdriver.common.keys import Keys\n",
    "from selenium.webdriver.common.by import By\n",
    "from selenium.webdriver.support import expected_conditions as EC\n",
    "from selenium.webdriver.support.wait import WebDriverWait\n",
    "from dotenv import load_dotenv\n",
    "import time\n",
    "import os\n",
    "from datetime import date\n",
    "\n",
    "load_dotenv()\n",
    "\n",
    "email = os.getenv(\"email\")\n",
    "senha = os.getenv(\"senha\")\n",
    "\n",
    "navegador = webdriver.Chrome()\n",
    "\n",
    "navegador.get(\"https://www.instagram.com/\")\n",
    "\n",
    "username = WebDriverWait(navegador, 10).until(EC.element_to_be_clickable((By.CSS_SELECTOR, \"input[name='username']\")))\n",
    "password = WebDriverWait(navegador, 10).until(EC.element_to_be_clickable((By.CSS_SELECTOR, \"input[name='password']\")))\n",
    "\n",
    "\n",
    "username.send_keys(email)\n",
    "password.send_keys(senha)\n",
    "navegador.find_element(By.XPATH, '//*[@id=\"loginForm\"]/div/div[3]/button/div').click()\n",
    "\n",
    "time.sleep(8)\n",
    "\n",
    "navegador.find_element(By.XPATH, '//*[@id=\"react-root\"]/section/nav/div[2]/div/div/div[2]/div[1]/div/span').click()\n",
    "navegador.find_element(By.XPATH, '//*[@id=\"react-root\"]/section/nav/div[2]/div/div/div[2]/input').send_keys(\"hanyarts\")\n",
    "time.sleep(2)\n",
    "navegador.find_element(By.XPATH, '//*[@id=\"react-root\"]/section/nav/div[2]/div/div/div[2]/div[3]/div/div[2]/div/div/a/div').click()\n",
    "time.sleep(2)\n",
    "\n",
    "\n",
    "n_seguidores = navegador.find_element(By.XPATH, '//*[@id=\"react-root\"]/section/main/div/header/section/ul/li[2]/a/div/span').get_attribute(\"title\")\n",
    "n_seguindo = navegador.find_element(By.XPATH, '//*[@id=\"react-root\"]/section/main/div/header/section/ul/li[3]/a/div/span').text\n",
    "n_publicacoes = navegador.find_element(By.XPATH, '//*[@id=\"react-root\"]/section/main/div/header/section/ul/li[1]/div/span').text\n",
    "\n",
    "\n",
    "n_seguidores = int(n_seguidores)\n",
    "n_seguindo = int(n_seguindo)\n",
    "n_publicacoes = int(n_publicacoes)\n",
    "\n",
    "dia_atual = date.today()\n",
    "dia = f'{dia_atual.day}/{dia_atual.month}/{dia_atual.year}'\n",
    "\n"
   ]
  },
  {
   "cell_type": "code",
   "execution_count": null,
   "id": "9ff51f62",
   "metadata": {},
   "outputs": [],
   "source": [
    "#Passo3: Adicionar o dado mais recente a tabela\n",
    "\n",
    "new_line = {'Dia': dia, 'Seguidores': n_seguidores, 'Seguindo': n_seguindo, 'Publicações': n_publicacoes}\n",
    "tabela = tabela.append(new_line, ignore_index=True)"
   ]
  },
  {
   "cell_type": "code",
   "execution_count": null,
   "id": "1071a286",
   "metadata": {},
   "outputs": [],
   "source": [
    "#Passo 4: Atualizar base de dado com a tabela no servidor de dados\n",
    "\n",
    "tabela.to_csv(\"DB_IDG_Teste.csv\")"
   ]
  },
  {
   "cell_type": "code",
   "execution_count": 10,
   "id": "055568d2",
   "metadata": {},
   "outputs": [
    {
     "name": "stdout",
     "output_type": "stream",
     "text": [
      "None\n",
      "None\n"
     ]
    }
   ],
   "source": [
    "#celula auxiliar para instalações\n",
    "\n",
    "teste_email = os.getenv(\"email\")\n",
    "teste_senha = os.getenv(\"senha\")\n",
    "\n",
    "print(teste_email)\n",
    "print(teste_senha)"
   ]
  }
 ],
 "metadata": {
  "kernelspec": {
   "display_name": "Python 3 (ipykernel)",
   "language": "python",
   "name": "python3"
  },
  "language_info": {
   "codemirror_mode": {
    "name": "ipython",
    "version": 3
   },
   "file_extension": ".py",
   "mimetype": "text/x-python",
   "name": "python",
   "nbconvert_exporter": "python",
   "pygments_lexer": "ipython3",
   "version": "3.9.7"
  }
 },
 "nbformat": 4,
 "nbformat_minor": 5
}
