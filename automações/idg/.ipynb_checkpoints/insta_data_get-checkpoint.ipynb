{
 "cells": [
  {
   "cell_type": "markdown",
   "id": "b25b9645",
   "metadata": {},
   "source": [
    "### Insta Data Get - IDG\n",
    "\n",
    "O IDG é uma automação para a coleta de dados do Instagram do TdG. Um dos objetivos dessa aplicação é\n",
    "obter dados como o número de seguidores e publicações diariamente, obtendo essas informações e atualizando a base de dados\n",
    "para que se possa fazer uma analise de dados, plotando gráficos e realizando análises estatísticas afim de se obter\n",
    "informações e conclusões valiosas que auxilie nas tomadas de decisões da instituição.\n",
    "\n"
   ]
  },
  {
   "cell_type": "code",
   "execution_count": 91,
   "id": "0e6ed82e",
   "metadata": {
    "scrolled": true
   },
   "outputs": [
    {
     "data": {
      "text/html": [
       "<div>\n",
       "<style scoped>\n",
       "    .dataframe tbody tr th:only-of-type {\n",
       "        vertical-align: middle;\n",
       "    }\n",
       "\n",
       "    .dataframe tbody tr th {\n",
       "        vertical-align: top;\n",
       "    }\n",
       "\n",
       "    .dataframe thead th {\n",
       "        text-align: right;\n",
       "    }\n",
       "</style>\n",
       "<table border=\"1\" class=\"dataframe\">\n",
       "  <thead>\n",
       "    <tr style=\"text-align: right;\">\n",
       "      <th></th>\n",
       "      <th>Dia</th>\n",
       "      <th>Seguidores</th>\n",
       "      <th>Seguindo</th>\n",
       "      <th>Publicações</th>\n",
       "    </tr>\n",
       "  </thead>\n",
       "  <tbody>\n",
       "  </tbody>\n",
       "</table>\n",
       "</div>"
      ],
      "text/plain": [
       "Empty DataFrame\n",
       "Columns: [Dia, Seguidores, Seguindo, Publicações]\n",
       "Index: []"
      ]
     },
     "metadata": {},
     "output_type": "display_data"
    }
   ],
   "source": [
    "#Passo1: Ler base de dados mais recente\n",
    "import pandas as pd\n",
    "\n",
    "tabela = pd.read_csv(\"DB_IDG_Teste.csv\")\n",
    "display(tabela)\n"
   ]
  },
  {
   "cell_type": "code",
   "execution_count": 92,
   "id": "d8f964de",
   "metadata": {},
   "outputs": [],
   "source": [
    "#Passo2: Obter dado mais atual(numero de seguidores e publicações)\n",
    "\n",
    "from selenium import webdriver\n",
    "from selenium.webdriver.common.keys import Keys\n",
    "from selenium.webdriver.common.by import By\n",
    "from selenium.webdriver.support import expected_conditions as EC\n",
    "from selenium.webdriver.support.wait import WebDriverWait\n",
    "import time\n",
    "from datetime import date\n",
    "\n",
    "navegador = webdriver.Chrome()\n",
    "\n",
    "navegador.get(\"https://www.instagram.com/\")\n",
    "\n",
    "username = WebDriverWait(navegador, 10).until(EC.element_to_be_clickable((By.CSS_SELECTOR, \"input[name='username']\")))\n",
    "password = WebDriverWait(navegador, 10).until(EC.element_to_be_clickable((By.CSS_SELECTOR, \"input[name='password']\")))\n",
    "\n",
    "username.send_keys(\"x\")\n",
    "password.send_keys(\"x\")\n",
    "navegador.find_element(By.XPATH, '//*[@id=\"loginForm\"]/div/div[3]/button/div').click()\n",
    "\n",
    "time.sleep(8)\n",
    "\n",
    "navegador.find_element(By.XPATH, '//*[@id=\"react-root\"]/section/nav/div[2]/div/div/div[2]/div[1]/div/span').click()\n",
    "navegador.find_element(By.XPATH, '//*[@id=\"react-root\"]/section/nav/div[2]/div/div/div[2]/input').send_keys(\"hanyarts\")\n",
    "time.sleep(2)\n",
    "navegador.find_element(By.XPATH, '//*[@id=\"react-root\"]/section/nav/div[2]/div/div/div[2]/div[3]/div/div[2]/div/div/a/div').click()\n",
    "time.sleep(2)\n",
    "\n",
    "\n",
    "n_seguidores = navegador.find_element(By.XPATH, '//*[@id=\"react-root\"]/section/main/div/header/section/ul/li[2]/a/div/span').get_attribute(\"title\")\n",
    "n_seguindo = navegador.find_element(By.XPATH, '//*[@id=\"react-root\"]/section/main/div/header/section/ul/li[3]/a/div/span').text\n",
    "n_publicacoes = navegador.find_element(By.XPATH, '//*[@id=\"react-root\"]/section/main/div/header/section/ul/li[1]/div/span').text\n",
    "\n",
    "\n",
    "n_seguidores = int(n_seguidores)\n",
    "n_seguindo = int(n_seguindo)\n",
    "n_publicacoes = int(n_publicacoes)\n",
    "\n",
    "dia_atual = date.today()\n",
    "dia = f'{dia_atual.day}/{dia_atual.month}/{dia_atual.year}'\n",
    "\n"
   ]
  },
  {
   "cell_type": "code",
   "execution_count": 93,
   "id": "9ff51f62",
   "metadata": {},
   "outputs": [],
   "source": [
    "#Passo3: Adicionar o dado mais recente a tabela\n",
    "\n",
    "new_line = {'Dia': dia, 'Seguidores': n_seguidores, 'Seguindo': n_seguindo, 'Publicações': n_publicacoes}\n",
    "tabela = tabela.append(new_line, ignore_index=True)"
   ]
  },
  {
   "cell_type": "code",
   "execution_count": 94,
   "id": "1071a286",
   "metadata": {},
   "outputs": [],
   "source": [
    "#Passo 4: Atualizar base de dado com a tabela no servidor de dados\n",
    "\n",
    "tabela.to_csv(\"DB_IDG_Teste.csv\")"
   ]
  },
  {
   "cell_type": "code",
   "execution_count": null,
   "id": "055568d2",
   "metadata": {},
   "outputs": [],
   "source": []
  }
 ],
 "metadata": {
  "kernelspec": {
   "display_name": "Python 3 (ipykernel)",
   "language": "python",
   "name": "python3"
  },
  "language_info": {
   "codemirror_mode": {
    "name": "ipython",
    "version": 3
   },
   "file_extension": ".py",
   "mimetype": "text/x-python",
   "name": "python",
   "nbconvert_exporter": "python",
   "pygments_lexer": "ipython3",
   "version": "3.9.7"
  }
 },
 "nbformat": 4,
 "nbformat_minor": 5
}
